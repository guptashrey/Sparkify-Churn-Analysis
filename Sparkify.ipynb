{
 "cells": [
  {
   "cell_type": "markdown",
   "metadata": {},
   "source": [
    "# Sparkify Project Workspace\n",
    "This workspace contains a tiny subset (128MB) of the full dataset available (12GB). Feel free to use this workspace to build your project, or to explore a smaller subset with Spark before deploying your cluster on the cloud. Instructions for setting up your Spark cluster is included in the last lesson of the Extracurricular Spark Course content.\n",
    "\n",
    "You can follow the steps below to guide your data analysis and model building portion of this project."
   ]
  },
  {
   "cell_type": "code",
   "execution_count": 1,
   "metadata": {},
   "outputs": [],
   "source": [
    "# import libraries\n",
    "from pyspark.sql import SparkSession, Window\n",
    "from pyspark.sql.types import IntegerType\n",
    "from pyspark.sql.functions import udf, isnan, avg, asc, max, count, col\n",
    "from pyspark.sql.functions import sum as Fsum\n",
    "\n",
    "import matplotlib.pyplot as plt\n",
    "import seaborn as sns\n",
    "%matplotlib inline\n",
    "\n",
    "from pyspark.ml import Pipeline\n",
    "from pyspark.ml.classification import LogisticRegression, RandomForestClassifier, GBTClassifier\n",
    "from pyspark.ml.evaluation import BinaryClassificationEvaluator, MulticlassClassificationEvaluator\n",
    "from pyspark.ml.feature import StandardScaler, VectorAssembler\n",
    "from pyspark.ml.tuning import CrossValidator, ParamGridBuilder\n",
    "from time import time\n",
    "import numpy as np"
   ]
  },
  {
   "cell_type": "code",
   "execution_count": 2,
   "metadata": {},
   "outputs": [],
   "source": [
    "# create a Spark session\n",
    "spark = SparkSession.builder.master(\"local\").appName(\"Sparkify\").getOrCreate()"
   ]
  },
  {
   "cell_type": "markdown",
   "metadata": {},
   "source": [
    "# Load and Clean Dataset\n",
    "In this workspace, the mini-dataset file is `mini_sparkify_event_data.json`. Load and clean the dataset, checking for invalid or missing data - for example, records without userids or sessionids. "
   ]
  },
  {
   "cell_type": "code",
   "execution_count": 3,
   "metadata": {},
   "outputs": [],
   "source": [
    "mini_sparkify_data = spark.read.json('mini_sparkify_event_data.json')"
   ]
  },
  {
   "cell_type": "code",
   "execution_count": 4,
   "metadata": {},
   "outputs": [
    {
     "data": {
      "text/plain": [
       "286500"
      ]
     },
     "execution_count": 4,
     "metadata": {},
     "output_type": "execute_result"
    }
   ],
   "source": [
    "mini_sparkify_data.count()"
   ]
  },
  {
   "cell_type": "code",
   "execution_count": 5,
   "metadata": {},
   "outputs": [
    {
     "data": {
      "text/plain": [
       "DataFrame[summary: string, artist: string, auth: string, firstName: string, gender: string, itemInSession: string, lastName: string, length: string, level: string, location: string, method: string, page: string, registration: string, sessionId: string, song: string, status: string, ts: string, userAgent: string, userId: string]"
      ]
     },
     "execution_count": 5,
     "metadata": {},
     "output_type": "execute_result"
    }
   ],
   "source": [
    "mini_sparkify_data.describe()"
   ]
  },
  {
   "cell_type": "code",
   "execution_count": 6,
   "metadata": {
    "scrolled": true
   },
   "outputs": [
    {
     "name": "stdout",
     "output_type": "stream",
     "text": [
      "+--------------------+---------+---------+------+-------------+--------+---------+-----+--------------------+------+---------------+-------------+---------+--------------------+------+-------------+--------------------+------+\n",
      "|              artist|     auth|firstName|gender|itemInSession|lastName|   length|level|            location|method|           page| registration|sessionId|                song|status|           ts|           userAgent|userId|\n",
      "+--------------------+---------+---------+------+-------------+--------+---------+-----+--------------------+------+---------------+-------------+---------+--------------------+------+-------------+--------------------+------+\n",
      "|      Martha Tilston|Logged In|    Colin|     M|           50| Freeman|277.89016| paid|     Bakersfield, CA|   PUT|       NextSong|1538173362000|       29|           Rockpools|   200|1538352117000|Mozilla/5.0 (Wind...|    30|\n",
      "|    Five Iron Frenzy|Logged In|    Micah|     M|           79|    Long|236.09424| free|Boston-Cambridge-...|   PUT|       NextSong|1538331630000|        8|              Canada|   200|1538352180000|\"Mozilla/5.0 (Win...|     9|\n",
      "|        Adam Lambert|Logged In|    Colin|     M|           51| Freeman| 282.8273| paid|     Bakersfield, CA|   PUT|       NextSong|1538173362000|       29|   Time For Miracles|   200|1538352394000|Mozilla/5.0 (Wind...|    30|\n",
      "|              Enigma|Logged In|    Micah|     M|           80|    Long|262.71302| free|Boston-Cambridge-...|   PUT|       NextSong|1538331630000|        8|Knocking On Forbi...|   200|1538352416000|\"Mozilla/5.0 (Win...|     9|\n",
      "|           Daft Punk|Logged In|    Colin|     M|           52| Freeman|223.60771| paid|     Bakersfield, CA|   PUT|       NextSong|1538173362000|       29|Harder Better Fas...|   200|1538352676000|Mozilla/5.0 (Wind...|    30|\n",
      "|The All-American ...|Logged In|    Micah|     M|           81|    Long|208.29995| free|Boston-Cambridge-...|   PUT|       NextSong|1538331630000|        8|      Don't Leave Me|   200|1538352678000|\"Mozilla/5.0 (Win...|     9|\n",
      "|The Velvet Underg...|Logged In|    Micah|     M|           82|    Long|260.46649| free|Boston-Cambridge-...|   PUT|       NextSong|1538331630000|        8|         Run Run Run|   200|1538352886000|\"Mozilla/5.0 (Win...|     9|\n",
      "|        Starflyer 59|Logged In|    Colin|     M|           53| Freeman|185.44281| paid|     Bakersfield, CA|   PUT|       NextSong|1538173362000|       29|Passengers (Old A...|   200|1538352899000|Mozilla/5.0 (Wind...|    30|\n",
      "|                null|Logged In|    Colin|     M|           54| Freeman|     null| paid|     Bakersfield, CA|   PUT|Add to Playlist|1538173362000|       29|                null|   200|1538352905000|Mozilla/5.0 (Wind...|    30|\n",
      "|            Frumpies|Logged In|    Colin|     M|           55| Freeman|134.47791| paid|     Bakersfield, CA|   PUT|       NextSong|1538173362000|       29|          Fuck Kitty|   200|1538353084000|Mozilla/5.0 (Wind...|    30|\n",
      "|        Britt Nicole|Logged In|    Micah|     M|           83|    Long| 229.8771| free|Boston-Cambridge-...|   PUT|       NextSong|1538331630000|        8|   Walk On The Water|   200|1538353146000|\"Mozilla/5.0 (Win...|     9|\n",
      "|                null|Logged In|    Micah|     M|           84|    Long|     null| free|Boston-Cambridge-...|   GET|    Roll Advert|1538331630000|        8|                null|   200|1538353150000|\"Mozilla/5.0 (Win...|     9|\n",
      "|Edward Sharpe & T...|Logged In|    Colin|     M|           56| Freeman|223.58159| paid|     Bakersfield, CA|   PUT|       NextSong|1538173362000|       29|                Jade|   200|1538353218000|Mozilla/5.0 (Wind...|    30|\n",
      "|               Tesla|Logged In|    Micah|     M|           85|    Long|201.06404| free|Boston-Cambridge-...|   PUT|       NextSong|1538331630000|        8|      Gettin' Better|   200|1538353375000|\"Mozilla/5.0 (Win...|     9|\n",
      "|                null|Logged In|    Micah|     M|           86|    Long|     null| free|Boston-Cambridge-...|   PUT|      Thumbs Up|1538331630000|        8|                null|   307|1538353376000|\"Mozilla/5.0 (Win...|     9|\n",
      "|         Stan Mosley|Logged In|    Colin|     M|           57| Freeman|246.69995| paid|     Bakersfield, CA|   PUT|       NextSong|1538173362000|       29|   So-Called Friends|   200|1538353441000|Mozilla/5.0 (Wind...|    30|\n",
      "|Florence + The Ma...|Logged In|    Micah|     M|           87|    Long|168.64608| free|Boston-Cambridge-...|   PUT|       NextSong|1538331630000|        8| You've Got The Love|   200|1538353576000|\"Mozilla/5.0 (Win...|     9|\n",
      "|   Tokyo Police Club|Logged In|  Ashlynn|     F|            0|Williams| 166.1122| free|     Tallahassee, FL|   PUT|       NextSong|1537365219000|      217|Citizens Of Tomorrow|   200|1538353668000|\"Mozilla/5.0 (Mac...|    74|\n",
      "|             Orishas|Logged In|    Colin|     M|           58| Freeman|222.22322| paid|     Bakersfield, CA|   PUT|       NextSong|1538173362000|       29|           Represent|   200|1538353687000|Mozilla/5.0 (Wind...|    30|\n",
      "|             Ratatat|Logged In|    Micah|     M|           88|    Long|229.77261| free|Boston-Cambridge-...|   PUT|       NextSong|1538331630000|        8|              Swisha|   200|1538353744000|\"Mozilla/5.0 (Win...|     9|\n",
      "+--------------------+---------+---------+------+-------------+--------+---------+-----+--------------------+------+---------------+-------------+---------+--------------------+------+-------------+--------------------+------+\n",
      "only showing top 20 rows\n",
      "\n"
     ]
    }
   ],
   "source": [
    "mini_sparkify_data.show()"
   ]
  },
  {
   "cell_type": "markdown",
   "metadata": {},
   "source": [
    "### Drop Rows with Missing Values"
   ]
  },
  {
   "cell_type": "code",
   "execution_count": 7,
   "metadata": {},
   "outputs": [
    {
     "name": "stdout",
     "output_type": "stream",
     "text": [
      "artist :  58392\n",
      "auth :  0\n",
      "firstName :  8346\n",
      "gender :  8346\n",
      "itemInSession :  0\n",
      "lastName :  8346\n",
      "length :  58392\n",
      "level :  0\n",
      "location :  8346\n",
      "method :  0\n",
      "page :  0\n",
      "registration :  8346\n",
      "sessionId :  0\n",
      "song :  58392\n",
      "status :  0\n",
      "ts :  0\n",
      "userAgent :  8346\n",
      "userId :  8346\n"
     ]
    }
   ],
   "source": [
    "for coln in mini_sparkify_data.columns:\n",
    "    missing_count = mini_sparkify_data.filter((isnan(mini_sparkify_data[coln])) | (mini_sparkify_data[coln].isNull()) | (mini_sparkify_data[coln] == \"\")).count()\n",
    "    print(coln, \": \", missing_count)"
   ]
  },
  {
   "cell_type": "code",
   "execution_count": 8,
   "metadata": {},
   "outputs": [],
   "source": [
    "#Dropping rows that have missing userId\n",
    "df = mini_sparkify_data.dropna(how = \"any\", subset = [\"userId\"])\n",
    "df = df.filter(df[\"userId\"] != \"\")"
   ]
  },
  {
   "cell_type": "code",
   "execution_count": 9,
   "metadata": {},
   "outputs": [
    {
     "data": {
      "text/plain": [
       "278154"
      ]
     },
     "execution_count": 9,
     "metadata": {},
     "output_type": "execute_result"
    }
   ],
   "source": [
    "df.count()"
   ]
  },
  {
   "cell_type": "code",
   "execution_count": 10,
   "metadata": {},
   "outputs": [
    {
     "name": "stdout",
     "output_type": "stream",
     "text": [
      "+--------------------+\n",
      "|                page|\n",
      "+--------------------+\n",
      "|              Cancel|\n",
      "|    Submit Downgrade|\n",
      "|         Thumbs Down|\n",
      "|                Home|\n",
      "|           Downgrade|\n",
      "|         Roll Advert|\n",
      "|              Logout|\n",
      "|       Save Settings|\n",
      "|Cancellation Conf...|\n",
      "|               About|\n",
      "|            Settings|\n",
      "|     Add to Playlist|\n",
      "|          Add Friend|\n",
      "|            NextSong|\n",
      "|           Thumbs Up|\n",
      "|                Help|\n",
      "|             Upgrade|\n",
      "|               Error|\n",
      "|      Submit Upgrade|\n",
      "+--------------------+\n",
      "\n"
     ]
    }
   ],
   "source": [
    "df.select('page').dropDuplicates().show()"
   ]
  },
  {
   "cell_type": "code",
   "execution_count": 11,
   "metadata": {},
   "outputs": [
    {
     "name": "stdout",
     "output_type": "stream",
     "text": [
      "+-----+\n",
      "|level|\n",
      "+-----+\n",
      "| free|\n",
      "| paid|\n",
      "+-----+\n",
      "\n"
     ]
    }
   ],
   "source": [
    "df.select('level').dropDuplicates().show()"
   ]
  },
  {
   "cell_type": "markdown",
   "metadata": {},
   "source": [
    "# Exploratory Data Analysis\n",
    "When you're working with the full dataset, perform EDA by loading a small subset of the data and doing basic manipulations within Spark. In this workspace, you are already provided a small subset of data you can explore.\n",
    "\n",
    "### Define Churn\n",
    "\n",
    "Once you've done some preliminary analysis, create a column `Churn` to use as the label for your model. I suggest using the `Cancellation Confirmation` events to define your churn, which happen for both paid and free users. As a bonus task, you can also look into the `Downgrade` events.\n",
    "\n",
    "### Explore Data\n",
    "Once you've defined churn, perform some exploratory data analysis to observe the behavior for users who stayed vs users who churned. You can start by exploring aggregates on these two groups of users, observing how much of a specific action they experienced per a certain time unit or number of songs played."
   ]
  },
  {
   "cell_type": "markdown",
   "metadata": {},
   "source": [
    "### Churn Definition"
   ]
  },
  {
   "cell_type": "code",
   "execution_count": 12,
   "metadata": {
    "scrolled": true
   },
   "outputs": [
    {
     "name": "stdout",
     "output_type": "stream",
     "text": [
      "+--------------------+---------+---------+------+-------------+--------+---------+-----+--------------------+------+---------------+-------------+---------+--------------------+------+-------------+--------------------+------+-----+\n",
      "|              artist|     auth|firstName|gender|itemInSession|lastName|   length|level|            location|method|           page| registration|sessionId|                song|status|           ts|           userAgent|userId|Churn|\n",
      "+--------------------+---------+---------+------+-------------+--------+---------+-----+--------------------+------+---------------+-------------+---------+--------------------+------+-------------+--------------------+------+-----+\n",
      "|      Martha Tilston|Logged In|    Colin|     M|           50| Freeman|277.89016| paid|     Bakersfield, CA|   PUT|       NextSong|1538173362000|       29|           Rockpools|   200|1538352117000|Mozilla/5.0 (Wind...|    30|    0|\n",
      "|    Five Iron Frenzy|Logged In|    Micah|     M|           79|    Long|236.09424| free|Boston-Cambridge-...|   PUT|       NextSong|1538331630000|        8|              Canada|   200|1538352180000|\"Mozilla/5.0 (Win...|     9|    0|\n",
      "|        Adam Lambert|Logged In|    Colin|     M|           51| Freeman| 282.8273| paid|     Bakersfield, CA|   PUT|       NextSong|1538173362000|       29|   Time For Miracles|   200|1538352394000|Mozilla/5.0 (Wind...|    30|    0|\n",
      "|              Enigma|Logged In|    Micah|     M|           80|    Long|262.71302| free|Boston-Cambridge-...|   PUT|       NextSong|1538331630000|        8|Knocking On Forbi...|   200|1538352416000|\"Mozilla/5.0 (Win...|     9|    0|\n",
      "|           Daft Punk|Logged In|    Colin|     M|           52| Freeman|223.60771| paid|     Bakersfield, CA|   PUT|       NextSong|1538173362000|       29|Harder Better Fas...|   200|1538352676000|Mozilla/5.0 (Wind...|    30|    0|\n",
      "|The All-American ...|Logged In|    Micah|     M|           81|    Long|208.29995| free|Boston-Cambridge-...|   PUT|       NextSong|1538331630000|        8|      Don't Leave Me|   200|1538352678000|\"Mozilla/5.0 (Win...|     9|    0|\n",
      "|The Velvet Underg...|Logged In|    Micah|     M|           82|    Long|260.46649| free|Boston-Cambridge-...|   PUT|       NextSong|1538331630000|        8|         Run Run Run|   200|1538352886000|\"Mozilla/5.0 (Win...|     9|    0|\n",
      "|        Starflyer 59|Logged In|    Colin|     M|           53| Freeman|185.44281| paid|     Bakersfield, CA|   PUT|       NextSong|1538173362000|       29|Passengers (Old A...|   200|1538352899000|Mozilla/5.0 (Wind...|    30|    0|\n",
      "|                null|Logged In|    Colin|     M|           54| Freeman|     null| paid|     Bakersfield, CA|   PUT|Add to Playlist|1538173362000|       29|                null|   200|1538352905000|Mozilla/5.0 (Wind...|    30|    0|\n",
      "|            Frumpies|Logged In|    Colin|     M|           55| Freeman|134.47791| paid|     Bakersfield, CA|   PUT|       NextSong|1538173362000|       29|          Fuck Kitty|   200|1538353084000|Mozilla/5.0 (Wind...|    30|    0|\n",
      "|        Britt Nicole|Logged In|    Micah|     M|           83|    Long| 229.8771| free|Boston-Cambridge-...|   PUT|       NextSong|1538331630000|        8|   Walk On The Water|   200|1538353146000|\"Mozilla/5.0 (Win...|     9|    0|\n",
      "|                null|Logged In|    Micah|     M|           84|    Long|     null| free|Boston-Cambridge-...|   GET|    Roll Advert|1538331630000|        8|                null|   200|1538353150000|\"Mozilla/5.0 (Win...|     9|    0|\n",
      "|Edward Sharpe & T...|Logged In|    Colin|     M|           56| Freeman|223.58159| paid|     Bakersfield, CA|   PUT|       NextSong|1538173362000|       29|                Jade|   200|1538353218000|Mozilla/5.0 (Wind...|    30|    0|\n",
      "|               Tesla|Logged In|    Micah|     M|           85|    Long|201.06404| free|Boston-Cambridge-...|   PUT|       NextSong|1538331630000|        8|      Gettin' Better|   200|1538353375000|\"Mozilla/5.0 (Win...|     9|    0|\n",
      "|                null|Logged In|    Micah|     M|           86|    Long|     null| free|Boston-Cambridge-...|   PUT|      Thumbs Up|1538331630000|        8|                null|   307|1538353376000|\"Mozilla/5.0 (Win...|     9|    0|\n",
      "|         Stan Mosley|Logged In|    Colin|     M|           57| Freeman|246.69995| paid|     Bakersfield, CA|   PUT|       NextSong|1538173362000|       29|   So-Called Friends|   200|1538353441000|Mozilla/5.0 (Wind...|    30|    0|\n",
      "|Florence + The Ma...|Logged In|    Micah|     M|           87|    Long|168.64608| free|Boston-Cambridge-...|   PUT|       NextSong|1538331630000|        8| You've Got The Love|   200|1538353576000|\"Mozilla/5.0 (Win...|     9|    0|\n",
      "|   Tokyo Police Club|Logged In|  Ashlynn|     F|            0|Williams| 166.1122| free|     Tallahassee, FL|   PUT|       NextSong|1537365219000|      217|Citizens Of Tomorrow|   200|1538353668000|\"Mozilla/5.0 (Mac...|    74|    0|\n",
      "|             Orishas|Logged In|    Colin|     M|           58| Freeman|222.22322| paid|     Bakersfield, CA|   PUT|       NextSong|1538173362000|       29|           Represent|   200|1538353687000|Mozilla/5.0 (Wind...|    30|    0|\n",
      "|             Ratatat|Logged In|    Micah|     M|           88|    Long|229.77261| free|Boston-Cambridge-...|   PUT|       NextSong|1538331630000|        8|              Swisha|   200|1538353744000|\"Mozilla/5.0 (Win...|     9|    0|\n",
      "+--------------------+---------+---------+------+-------------+--------+---------+-----+--------------------+------+---------------+-------------+---------+--------------------+------+-------------+--------------------+------+-----+\n",
      "only showing top 20 rows\n",
      "\n"
     ]
    }
   ],
   "source": [
    "#Adding \"Churn\" column based on \"Cancellation Confirmation\"\n",
    "\n",
    "is_churn = udf(lambda x: 1 if x == \"Cancellation Confirmation\" else 0, IntegerType())\n",
    "df = df.withColumn(\"Churn\", is_churn(\"page\"))\n",
    "df.show()"
   ]
  },
  {
   "cell_type": "code",
   "execution_count": 13,
   "metadata": {},
   "outputs": [
    {
     "name": "stdout",
     "output_type": "stream",
     "text": [
      "23% users have churned.\n"
     ]
    }
   ],
   "source": [
    "# Calculating percentage of users who churned\n",
    "percent_users_churned = df.groupBy('userId').agg({'Churn': 'sum'}).select(avg('sum(Churn)')).collect()[0]['avg(sum(Churn))']\n",
    "print(f\"{round(percent_users_churned*100)}% users have churned.\")"
   ]
  },
  {
   "cell_type": "code",
   "execution_count": 14,
   "metadata": {},
   "outputs": [],
   "source": [
    "# Calculating churn flag at final timestamps\n",
    "windowval = Window.partitionBy(\"userId\").orderBy(asc(\"ts\")).rangeBetween(Window.unboundedPreceding, 0)\n",
    "df = df.withColumn(\"churnUser\", max('Churn').over(Window.partitionBy(\"userId\")))"
   ]
  },
  {
   "cell_type": "code",
   "execution_count": 15,
   "metadata": {},
   "outputs": [
    {
     "name": "stdout",
     "output_type": "stream",
     "text": [
      "+--------------------+---------+---------+------+-------------+---------+---------+-----+--------------------+------+-----------+-------------+---------+--------------------+------+-------------+--------------------+------+-----+---------+\n",
      "|              artist|     auth|firstName|gender|itemInSession| lastName|   length|level|            location|method|       page| registration|sessionId|                song|status|           ts|           userAgent|userId|Churn|churnUser|\n",
      "+--------------------+---------+---------+------+-------------+---------+---------+-----+--------------------+------+-----------+-------------+---------+--------------------+------+-------------+--------------------+------+-----+---------+\n",
      "|Sleeping With Sirens|Logged In| Darianna|     F|            0|Carpenter|202.97098| free|Bridgeport-Stamfo...|   PUT|   NextSong|1538016340000|       31|Captain Tyin Knot...|   200|1539003534000|\"Mozilla/5.0 (iPh...|100010|    0|        0|\n",
      "|Francesca Battist...|Logged In| Darianna|     F|            1|Carpenter|196.54485| free|Bridgeport-Stamfo...|   PUT|   NextSong|1538016340000|       31|Beautiful_ Beauti...|   200|1539003736000|\"Mozilla/5.0 (iPh...|100010|    0|        0|\n",
      "|              Brutha|Logged In| Darianna|     F|            2|Carpenter|263.13098| free|Bridgeport-Stamfo...|   PUT|   NextSong|1538016340000|       31|          She's Gone|   200|1539003932000|\"Mozilla/5.0 (iPh...|100010|    0|        0|\n",
      "|                null|Logged In| Darianna|     F|            3|Carpenter|     null| free|Bridgeport-Stamfo...|   PUT|  Thumbs Up|1538016340000|       31|                null|   307|1539003933000|\"Mozilla/5.0 (iPh...|100010|    0|        0|\n",
      "|         Josh Ritter|Logged In| Darianna|     F|            4|Carpenter|316.23791| free|Bridgeport-Stamfo...|   PUT|   NextSong|1538016340000|       31|      Folk Bloodbath|   200|1539004195000|\"Mozilla/5.0 (iPh...|100010|    0|        0|\n",
      "|               LMFAO|Logged In| Darianna|     F|            5|Carpenter|183.74485| free|Bridgeport-Stamfo...|   PUT|   NextSong|1538016340000|       31|                 Yes|   200|1539004511000|\"Mozilla/5.0 (iPh...|100010|    0|        0|\n",
      "|         OneRepublic|Logged In| Darianna|     F|            6|Carpenter|224.67873| free|Bridgeport-Stamfo...|   PUT|   NextSong|1538016340000|       31|             Secrets|   200|1539004694000|\"Mozilla/5.0 (iPh...|100010|    0|        0|\n",
      "|       Dwight Yoakam|Logged In| Darianna|     F|            7|Carpenter| 239.3073| free|Bridgeport-Stamfo...|   PUT|   NextSong|1538016340000|       31|      You're The One|   200|1539004918000|\"Mozilla/5.0 (iPh...|100010|    0|        0|\n",
      "|                null|Logged In| Darianna|     F|            8|Carpenter|     null| free|Bridgeport-Stamfo...|   GET|Roll Advert|1538016340000|       31|                null|   200|1539004961000|\"Mozilla/5.0 (iPh...|100010|    0|        0|\n",
      "|      The Chordettes|Logged In| Darianna|     F|            9|Carpenter|142.41914| free|Bridgeport-Stamfo...|   PUT|   NextSong|1538016340000|       31|          Mr Sandman|   200|1539005157000|\"Mozilla/5.0 (iPh...|100010|    0|        0|\n",
      "|Coko featuring Ki...|Logged In| Darianna|     F|           10|Carpenter| 249.3122| free|Bridgeport-Stamfo...|   PUT|   NextSong|1538016340000|       31|           I Get Joy|   200|1539005299000|\"Mozilla/5.0 (iPh...|100010|    0|        0|\n",
      "|            The Cure|Logged In| Darianna|     F|           11|Carpenter| 52.27057| free|Bridgeport-Stamfo...|   PUT|   NextSong|1538016340000|       31|     The Final Sound|   200|1539005548000|\"Mozilla/5.0 (iPh...|100010|    0|        0|\n",
      "|                null|Logged In| Darianna|     F|           12|Carpenter|     null| free|Bridgeport-Stamfo...|   GET|Roll Advert|1538016340000|       31|                null|   200|1539005571000|\"Mozilla/5.0 (iPh...|100010|    0|        0|\n",
      "|Kid Cudi Vs Crookers|Logged In| Darianna|     F|           13|Carpenter|162.97751| free|Bridgeport-Stamfo...|   PUT|   NextSong|1538016340000|       31|        Day 'N' Nite|   200|1539005600000|\"Mozilla/5.0 (iPh...|100010|    0|        0|\n",
      "|                null|Logged In| Darianna|     F|           14|Carpenter|     null| free|Bridgeport-Stamfo...|   PUT|  Thumbs Up|1538016340000|       31|                null|   307|1539005601000|\"Mozilla/5.0 (iPh...|100010|    0|        0|\n",
      "|            Yeasayer|Logged In| Darianna|     F|           15|Carpenter|323.44771| free|Bridgeport-Stamfo...|   PUT|   NextSong|1538016340000|       31|                2080|   200|1539005762000|\"Mozilla/5.0 (iPh...|100010|    0|        0|\n",
      "|             Ben Lee|Logged In| Darianna|     F|           16|Carpenter|245.78567| free|Bridgeport-Stamfo...|   PUT|   NextSong|1538016340000|       31|        Ache For You|   200|1539006085000|\"Mozilla/5.0 (iPh...|100010|    0|        0|\n",
      "|                null|Logged In| Darianna|     F|           17|Carpenter|     null| free|Bridgeport-Stamfo...|   GET|Roll Advert|1538016340000|       31|                null|   200|1539006103000|\"Mozilla/5.0 (iPh...|100010|    0|        0|\n",
      "|  ? & The Mysterians|Logged In| Darianna|     F|           18|Carpenter|128.10404| free|Bridgeport-Stamfo...|   PUT|   NextSong|1538016340000|       31|    Just Like A Rose|   200|1539006330000|\"Mozilla/5.0 (iPh...|100010|    0|        0|\n",
      "|                null|Logged In| Darianna|     F|           19|Carpenter|     null| free|Bridgeport-Stamfo...|   GET|Roll Advert|1538016340000|       31|                null|   200|1539006331000|\"Mozilla/5.0 (iPh...|100010|    0|        0|\n",
      "+--------------------+---------+---------+------+-------------+---------+---------+-----+--------------------+------+-----------+-------------+---------+--------------------+------+-------------+--------------------+------+-----+---------+\n",
      "only showing top 20 rows\n",
      "\n"
     ]
    }
   ],
   "source": [
    "df.show()"
   ]
  },
  {
   "cell_type": "code",
   "execution_count": 16,
   "metadata": {},
   "outputs": [
    {
     "data": {
      "text/plain": [
       "Text(0,0.5,'Churn rate')"
      ]
     },
     "execution_count": 16,
     "metadata": {},
     "output_type": "execute_result"
    },
    {
     "data": {
      "image/png": "[encoded data removed]",
      "text/plain": [
       "<matplotlib.figure.Figure at 0x7faf712d2198>"
      ]
     },
     "metadata": {
      "needs_background": "light"
     },
     "output_type": "display_data"
    }
   ],
   "source": [
    "# Visualize level patterns\n",
    "levels = df.select(['userId', 'level', 'churnUser']).dropDuplicates().groupBy('level').agg(count('userId').alias('num_users'), Fsum('churnUser').alias('num_churns'))\n",
    "levels_df = levels.toPandas()\n",
    "\n",
    "plt.bar(levels_df['level'], levels_df['num_churns'] / levels_df['num_users'])\n",
    "plt.xlabel(\"Level\")\n",
    "plt.ylabel(\"Churn rate\")"
   ]
  },
  {
   "cell_type": "code",
   "execution_count": 17,
   "metadata": {},
   "outputs": [
    {
     "data": {
      "text/plain": [
       "<matplotlib.legend.Legend at 0x7faf700b1a58>"
      ]
     },
     "execution_count": 17,
     "metadata": {},
     "output_type": "execute_result"
    },
    {
     "data": {
      "image/png": "[encoded data removed]",
      "text/plain": [
       "<matplotlib.figure.Figure at 0x7faf700a9978>"
      ]
     },
     "metadata": {
      "needs_background": "light"
     },
     "output_type": "display_data"
    }
   ],
   "source": [
    "# Visualize the number of users by level\n",
    "func_churn_label = udf(lambda x: 'Churn' if x == 1 else 'Not Churn')\n",
    "level_users_pd = df.select(['userId', 'level', 'churnUser']).dropDuplicates().withColumn('churnUser', func_churn_label('churnUser')).toPandas()\n",
    "\n",
    "sns.countplot(x=\"level\", hue=\"churnUser\", data=level_users_pd)\n",
    "plt.ylim(0, 180)\n",
    "plt.xlabel(\"Level\")\n",
    "plt.ylabel(\"Number of users\")\n",
    "plt.legend(loc='best')"
   ]
  },
  {
   "cell_type": "code",
   "execution_count": 18,
   "metadata": {},
   "outputs": [
    {
     "data": {
      "text/plain": [
       "<matplotlib.legend.Legend at 0x7faf69d7ccc0>"
      ]
     },
     "execution_count": 18,
     "metadata": {},
     "output_type": "execute_result"
    },
    {
     "data": {
      "image/png": "[encoded data removed]",
      "text/plain": [
       "<matplotlib.figure.Figure at 0x7faf700292b0>"
      ]
     },
     "metadata": {
      "needs_background": "light"
     },
     "output_type": "display_data"
    }
   ],
   "source": [
    "# Calculate churns by device\n",
    "func_churn_label = udf(lambda x: 'Churn' if x == 1 else 'Not Churn')\n",
    "func_agent_device = udf(lambda x: x.split('(')[1].replace(\";\", \" \").split(\" \")[0])\n",
    "\n",
    "df_sub_device = df.withColumn(\"userAgent\", func_agent_device(df[\"userAgent\"]))\n",
    "device_pd = df_sub_device.select([\"userId\", 'userAgent', 'churnUser']).dropDuplicates().withColumn('churnUser', func_churn_label('churnUser')).toPandas()\n",
    "\n",
    "fig = plt.figure(figsize=(10, 4))\n",
    "sns.countplot(x=\"userAgent\", hue=\"churnUser\", data=device_pd)\n",
    "plt.xlabel(\"Device\")\n",
    "plt.ylabel(\"Number of users\")\n",
    "plt.legend(loc='best')"
   ]
  },
  {
   "cell_type": "markdown",
   "metadata": {},
   "source": [
    "# Feature Engineering\n",
    "Once you've familiarized yourself with the data, build out the features you find promising to train your model on. To work with the full dataset, you can follow the following steps.\n",
    "- Write a script to extract the necessary features from the smaller subset of data\n",
    "- Ensure that your script is scalable, using the best practices discussed in Lesson 3\n",
    "- Try your script on the full data set, debugging your script if necessary\n",
    "\n",
    "If you are working in the classroom workspace, you can just extract features based on the small subset of data contained here. Be sure to transfer over this work to the larger dataset when you work on your Spark cluster."
   ]
  },
  {
   "cell_type": "code",
   "execution_count": 19,
   "metadata": {},
   "outputs": [
    {
     "name": "stdout",
     "output_type": "stream",
     "text": [
      "+-------+------------------+-----------------------+\n",
      "|summary|            userId|time_since_registration|\n",
      "+-------+------------------+-----------------------+\n",
      "|  count|               225|                    225|\n",
      "|   mean|65391.013333333336|       79.8456834876543|\n",
      "| stddev|105396.47791907164|      37.66147001861254|\n",
      "|    min|                10|    0.31372685185185184|\n",
      "|    max|                99|      256.3776736111111|\n",
      "+-------+------------------+-----------------------+\n",
      "\n"
     ]
    }
   ],
   "source": [
    "# Time since registration\n",
    "temp = df.select('userId','registration','ts').withColumn('lifetime',(df.ts-df.registration)).groupBy('userId').agg({'lifetime':'max'}).withColumnRenamed('max(lifetime)','time_since_registration')\n",
    "feature_1 = temp.select('userId', (col('time_since_registration')/1000/3600/24).alias('time_since_registration'))\n",
    "\n",
    "feature_1.describe().show()"
   ]
  },
  {
   "cell_type": "code",
   "execution_count": 20,
   "metadata": {},
   "outputs": [
    {
     "name": "stdout",
     "output_type": "stream",
     "text": [
      "+-------+------------------+-----------------+\n",
      "|summary|            userID|        num_songs|\n",
      "+-------+------------------+-----------------+\n",
      "|  count|               225|              225|\n",
      "|   mean|65391.013333333336|          1236.24|\n",
      "| stddev|105396.47791907164|1329.531716432519|\n",
      "|    min|                10|                6|\n",
      "|    max|                99|             9632|\n",
      "+-------+------------------+-----------------+\n",
      "\n"
     ]
    }
   ],
   "source": [
    "# Number of songs listened\n",
    "\n",
    "feature_2 = df.select('userID','song').groupBy('userID').count().withColumnRenamed('count', 'num_songs')\n",
    "feature_2.describe().show()"
   ]
  },
  {
   "cell_type": "code",
   "execution_count": 21,
   "metadata": {},
   "outputs": [
    {
     "name": "stdout",
     "output_type": "stream",
     "text": [
      "+-------+------------------+-----------------+\n",
      "|summary|            userID|    num_thumbs_up|\n",
      "+-------+------------------+-----------------+\n",
      "|  count|               220|              220|\n",
      "|   mean| 66420.27727272727|            57.05|\n",
      "| stddev|106196.51156121881|65.67028650524044|\n",
      "|    min|                10|                1|\n",
      "|    max|                99|              437|\n",
      "+-------+------------------+-----------------+\n",
      "\n"
     ]
    }
   ],
   "source": [
    "# Number of Thumbs-Up\n",
    "\n",
    "feature_3 = df.select('userID','page').where(df.page == 'Thumbs Up').groupBy('userID').count().withColumnRenamed('count', 'num_thumbs_up')\n",
    "feature_3.describe().show()"
   ]
  },
  {
   "cell_type": "code",
   "execution_count": 22,
   "metadata": {},
   "outputs": [
    {
     "name": "stdout",
     "output_type": "stream",
     "text": [
      "+-------+------------------+------------------+\n",
      "|summary|            userID|   num_thumbs_down|\n",
      "+-------+------------------+------------------+\n",
      "|  count|               203|               203|\n",
      "|   mean| 66066.16256157635|12.541871921182265|\n",
      "| stddev|106108.32569893777|13.198108566983787|\n",
      "|    min|                10|                 1|\n",
      "|    max|                99|                75|\n",
      "+-------+------------------+------------------+\n",
      "\n"
     ]
    }
   ],
   "source": [
    "# Number of Thumbs-Down\n",
    "\n",
    "feature_4 = df.select('userID','page').where(df.page == 'Thumbs Down').groupBy('userID').count().withColumnRenamed('count', 'num_thumbs_down')\n",
    "feature_4.describe().show()"
   ]
  },
  {
   "cell_type": "code",
   "execution_count": 23,
   "metadata": {},
   "outputs": [
    {
     "name": "stdout",
     "output_type": "stream",
     "text": [
      "+-------+------------------+-----------------+\n",
      "|summary|            userID|     num_playlist|\n",
      "+-------+------------------+-----------------+\n",
      "|  count|               215|              215|\n",
      "|   mean| 66103.63720930232|30.35348837209302|\n",
      "| stddev|106360.47999565038| 32.8520568555997|\n",
      "|    min|                10|                1|\n",
      "|    max|                99|              240|\n",
      "+-------+------------------+-----------------+\n",
      "\n"
     ]
    }
   ],
   "source": [
    "# Number of songs added to playlist\n",
    "\n",
    "feature_5 = df.select('userID','page').where(df.page == 'Add to Playlist').groupBy('userID').count().withColumnRenamed('count', 'num_playlist')\n",
    "feature_5.describe().show()"
   ]
  },
  {
   "cell_type": "code",
   "execution_count": 24,
   "metadata": {},
   "outputs": [
    {
     "name": "stdout",
     "output_type": "stream",
     "text": [
      "+-------+------------------+------------------+\n",
      "|summary|            userID|    num_add_friend|\n",
      "+-------+------------------+------------------+\n",
      "|  count|               206|               206|\n",
      "|   mean| 66076.91262135922|20.762135922330096|\n",
      "| stddev|106860.60517425007|20.646779074405007|\n",
      "|    min|                10|                 1|\n",
      "|    max|                99|               143|\n",
      "+-------+------------------+------------------+\n",
      "\n"
     ]
    }
   ],
   "source": [
    "# Number of friends added\n",
    "feature_6 = df.select('userID','page').where(df.page == 'Add Friend').groupBy('userID').count().withColumnRenamed('count', 'num_add_friend') \n",
    "feature_6.describe().show()"
   ]
  },
  {
   "cell_type": "code",
   "execution_count": 25,
   "metadata": {},
   "outputs": [
    {
     "name": "stdout",
     "output_type": "stream",
     "text": [
      "+-------+------------------+------------------+\n",
      "|summary|            userID|       listen_time|\n",
      "+-------+------------------+------------------+\n",
      "|  count|               225|               225|\n",
      "|   mean|65391.013333333336|252558.32065155543|\n",
      "| stddev|105396.47791907164| 275396.4038847635|\n",
      "|    min|                10|         691.66884|\n",
      "|    max|                99|1991154.9155799907|\n",
      "+-------+------------------+------------------+\n",
      "\n"
     ]
    }
   ],
   "source": [
    "# Total time listening to music\n",
    "feature_7 = df.select('userID','length').groupBy('userID').sum().withColumnRenamed('sum(length)', 'listen_time')\n",
    "feature_7.describe().show()"
   ]
  },
  {
   "cell_type": "code",
   "execution_count": 26,
   "metadata": {},
   "outputs": [
    {
     "name": "stdout",
     "output_type": "stream",
     "text": [
      "+-------+------------------+-----------------+\n",
      "|summary|            userId|songs_per_session|\n",
      "+-------+------------------+-----------------+\n",
      "|  count|               225|              225|\n",
      "|   mean|65391.013333333336|70.78971233958933|\n",
      "| stddev|105396.47791907164| 42.6153697543817|\n",
      "|    min|                10|              3.0|\n",
      "|    max|                99|286.6666666666667|\n",
      "+-------+------------------+-----------------+\n",
      "\n"
     ]
    }
   ],
   "source": [
    "# Number of songs played per session\n",
    "feature_8 = df.where('page == \"NextSong\"').groupby(['userId', 'sessionId']).count().groupby(['userId']).agg({'count':'avg'}).withColumnRenamed('avg(count)', 'songs_per_session')\n",
    "feature_8.describe().show()"
   ]
  },
  {
   "cell_type": "code",
   "execution_count": 27,
   "metadata": {},
   "outputs": [
    {
     "name": "stdout",
     "output_type": "stream",
     "text": [
      "+-------+------------------+-------------------+\n",
      "|summary|            userId|             gender|\n",
      "+-------+------------------+-------------------+\n",
      "|  count|               225|                225|\n",
      "|   mean|65391.013333333336| 0.5377777777777778|\n",
      "| stddev|105396.47791907165|0.49968243883744773|\n",
      "|    min|                10|                  0|\n",
      "|    max|                99|                  1|\n",
      "+-------+------------------+-------------------+\n",
      "\n"
     ]
    }
   ],
   "source": [
    "# Gender\n",
    "feature_9 = df.select(\"userId\", \"gender\").dropDuplicates().replace(['M', 'F'], ['1', '0'], 'gender').select('userId', col('gender').cast('int'))\n",
    "feature_9.describe().show()"
   ]
  },
  {
   "cell_type": "code",
   "execution_count": 28,
   "metadata": {},
   "outputs": [
    {
     "name": "stdout",
     "output_type": "stream",
     "text": [
      "+-------+------------------+-----------------+\n",
      "|summary|            userId|   unique_artists|\n",
      "+-------+------------------+-----------------+\n",
      "|  count|               225|              225|\n",
      "|   mean|65391.013333333336|696.3777777777777|\n",
      "| stddev|105396.47791907164|603.9518698630802|\n",
      "|    min|                10|                3|\n",
      "|    max|                99|             3544|\n",
      "+-------+------------------+-----------------+\n",
      "\n"
     ]
    }
   ],
   "source": [
    "# Number of unique artists listened\n",
    "feature_10 = df.filter(df.page==\"NextSong\").select(\"userId\", \"artist\").dropDuplicates().groupby(\"userId\").count().withColumnRenamed(\"count\", \"unique_artists\")\n",
    "feature_10.describe().show()"
   ]
  },
  {
   "cell_type": "code",
   "execution_count": 29,
   "metadata": {},
   "outputs": [
    {
     "name": "stdout",
     "output_type": "stream",
     "text": [
      "+-------+------------------+------------------+\n",
      "|summary|            userId|             label|\n",
      "+-------+------------------+------------------+\n",
      "|  count|               225|               225|\n",
      "|   mean|65391.013333333336|0.2311111111111111|\n",
      "| stddev|105396.47791907164|0.4224832108996327|\n",
      "|    min|                10|                 0|\n",
      "|    max|                99|                 1|\n",
      "+-------+------------------+------------------+\n",
      "\n"
     ]
    }
   ],
   "source": [
    "label = df.select('userId', col('churnUser').alias('label')).dropDuplicates()\n",
    "label.describe().show()"
   ]
  },
  {
   "cell_type": "code",
   "execution_count": 30,
   "metadata": {},
   "outputs": [
    {
     "name": "stdout",
     "output_type": "stream",
     "text": [
      "+-----------------------+---------+-------------+---------------+------------+--------------+------------------+------------------+------+--------------+-----+\n",
      "|time_since_registration|num_songs|num_thumbs_up|num_thumbs_down|num_playlist|num_add_friend|       listen_time| songs_per_session|gender|unique_artists|label|\n",
      "+-----------------------+---------+-------------+---------------+------------+--------------+------------------+------------------+------+--------------+-----+\n",
      "|       55.6436574074074|      381|           17|              5|           7|             4| 66940.89735000003|39.285714285714285|     0|           252|    0|\n",
      "|      70.07462962962963|      474|           21|              6|           8|             4| 94008.87593999993|              64.5|     1|           339|    0|\n",
      "|      71.31688657407408|       11|            0|              0|           0|             0|2089.1131000000005|               8.0|     1|             8|    1|\n",
      "|     131.55591435185184|     4825|          171|             41|         118|            74|1012312.0927899999|145.67857142857142|     0|          2232|    0|\n",
      "|     19.455844907407407|     2464|          100|             21|          52|            28| 523275.8428000004|             211.1|     1|          1385|    1|\n",
      "+-----------------------+---------+-------------+---------------+------------+--------------+------------------+------------------+------+--------------+-----+\n",
      "only showing top 5 rows\n",
      "\n"
     ]
    }
   ],
   "source": [
    "final_data = feature_1.join(feature_2,'userID','outer')\n",
    "final_data = final_data.join(feature_3,'userID','outer')\n",
    "final_data = final_data.join(feature_4,'userID','outer')\n",
    "final_data = final_data.join(feature_5,'userID','outer')\n",
    "final_data = final_data.join(feature_6,'userID','outer')\n",
    "final_data = final_data.join(feature_7,'userID','outer')\n",
    "final_data = final_data.join(feature_8,'userID','outer')\n",
    "final_data = final_data.join(feature_9,'userID','outer')\n",
    "final_data = final_data.join(feature_10,'userID','outer')\n",
    "final_data = final_data.join(label,'userID','outer')\n",
    "final_data = final_data.drop('userID').fillna(0)\n",
    "final_data.show(5)"
   ]
  },
  {
   "cell_type": "code",
   "execution_count": 31,
   "metadata": {},
   "outputs": [
    {
     "data": {
      "text/plain": [
       "['time_since_registration',\n",
       " 'num_songs',\n",
       " 'num_thumbs_up',\n",
       " 'num_thumbs_down',\n",
       " 'num_playlist',\n",
       " 'num_add_friend',\n",
       " 'listen_time',\n",
       " 'songs_per_session',\n",
       " 'gender',\n",
       " 'unique_artists',\n",
       " 'label']"
      ]
     },
     "execution_count": 31,
     "metadata": {},
     "output_type": "execute_result"
    }
   ],
   "source": [
    "final_data.columns"
   ]
  },
  {
   "cell_type": "markdown",
   "metadata": {},
   "source": [
    "# Modeling\n",
    "Split the full dataset into train, test, and validation sets. Test out several of the machine learning methods you learned. Evaluate the accuracy of the various models, tuning parameters as necessary. Determine your winning model based on test accuracy and report results on the validation set. Since the churned users are a fairly small subset, I suggest using F1 score as the metric to optimize."
   ]
  },
  {
   "cell_type": "code",
   "execution_count": 32,
   "metadata": {},
   "outputs": [],
   "source": [
    "# Vector assembler needed for pyspark\n",
    "cols = ['time_since_registration',\n",
    " 'num_songs',\n",
    " 'num_thumbs_up',\n",
    " 'num_thumbs_down',\n",
    " 'num_playlist',\n",
    " 'num_add_friend',\n",
    " 'listen_time',\n",
    " 'songs_per_session',\n",
    " 'gender',\n",
    " 'unique_artists']\n",
    "assembler = VectorAssembler(inputCols=cols, outputCol=\"features\")\n",
    "data = assembler.transform(final_data)\n",
    "\n",
    "# # standard scaler\n",
    "# scaler = StandardScaler(inputCol=\"NumFeatures\", outputCol=\"features\", withStd=True)\n",
    "# scalerModel = scaler.fit(data)\n",
    "# data = scalerModel.transform(data)"
   ]
  },
  {
   "cell_type": "code",
   "execution_count": 33,
   "metadata": {},
   "outputs": [
    {
     "name": "stdout",
     "output_type": "stream",
     "text": [
      "+-----------------------+---------+-------------+---------------+------------+--------------+------------------+------------------+------+--------------+-----+--------------------+\n",
      "|time_since_registration|num_songs|num_thumbs_up|num_thumbs_down|num_playlist|num_add_friend|       listen_time| songs_per_session|gender|unique_artists|label|            features|\n",
      "+-----------------------+---------+-------------+---------------+------------+--------------+------------------+------------------+------+--------------+-----+--------------------+\n",
      "|       55.6436574074074|      381|           17|              5|           7|             4| 66940.89735000003|39.285714285714285|     0|           252|    0|[55.6436574074074...|\n",
      "|      70.07462962962963|      474|           21|              6|           8|             4| 94008.87593999993|              64.5|     1|           339|    0|[70.0746296296296...|\n",
      "|      71.31688657407408|       11|            0|              0|           0|             0|2089.1131000000005|               8.0|     1|             8|    1|[71.3168865740740...|\n",
      "|     131.55591435185184|     4825|          171|             41|         118|            74|1012312.0927899999|145.67857142857142|     0|          2232|    0|[131.555914351851...|\n",
      "|     19.455844907407407|     2464|          100|             21|          52|            28| 523275.8428000004|             211.1|     1|          1385|    1|[19.4558449074074...|\n",
      "|      72.77818287037037|      201|            7|              1|           5|             1| 38034.08710000002|21.428571428571427|     1|           142|    0|[72.7781828703703...|\n",
      "|     56.513576388888886|     2278|           81|             14|          59|            31|477307.60581000015|136.71428571428572|     1|          1302|    0|[56.5135763888888...|\n",
      "|     110.75168981481481|     3437|          163|             29|          72|            33| 711344.9195400011| 81.17142857142858|     0|          1744|    1|[110.751689814814...|\n",
      "|     23.556018518518517|     1002|           58|              3|          24|            11|       198779.2919|136.66666666666666|     0|           643|    0|[23.5560185185185...|\n",
      "|      85.08340277777778|      310|           17|              3|           7|             6| 67703.47208000004|42.833333333333336|     1|           233|    1|[85.0834027777777...|\n",
      "|       66.8891087962963|     2304|           96|             17|          38|            41| 483118.9038399997|             120.5|     0|          1299|    0|[66.8891087962963...|\n",
      "|     23.872037037037035|      118|           11|              0|           1|             3|20660.023910000007|              28.0|     0|            78|    0|[23.8720370370370...|\n",
      "|     53.965937499999995|     2149|           86|             16|          61|            29| 447464.0146699989|             179.7|     1|          1241|    1|[53.9659374999999...|\n",
      "|     124.47825231481481|      848|           40|              9|          20|             6|159669.96303999983|           40.4375|     0|           534|    0|[124.478252314814...|\n",
      "|      66.62668981481481|     2469|           95|             24|          67|            41| 512449.8827599989|             138.0|     1|          1332|    0|[66.6266898148148...|\n",
      "|      74.35851851851852|     4428|          303|             28|         113|            63| 897406.9802100015|59.540983606557376|     0|          2070|    0|[74.3585185185185...|\n",
      "|      64.73886574074074|      319|           11|              5|           7|             7| 57633.17563999999|              46.0|     1|           207|    1|[64.7388657407407...|\n",
      "|     60.104050925925925|     3603|          154|             22|          89|            47| 754517.5625700009| 89.05882352941177|     1|          1804|    1|[60.1040509259259...|\n",
      "|      71.42444444444445|     1342|           72|              9|          33|            12| 286064.0256399999|             125.0|     0|           865|    0|[71.4244444444444...|\n",
      "|      87.46262731481481|      292|            9|              3|           7|             7| 53062.74659000002| 23.88888888888889|     1|           195|    0|[87.4626273148148...|\n",
      "+-----------------------+---------+-------------+---------------+------------+--------------+------------------+------------------+------+--------------+-----+--------------------+\n",
      "only showing top 20 rows\n",
      "\n"
     ]
    }
   ],
   "source": [
    "data.show()"
   ]
  },
  {
   "cell_type": "code",
   "execution_count": 34,
   "metadata": {},
   "outputs": [],
   "source": [
    "# train test split\n",
    "train, _temp = data.randomSplit([0.6, 0.4], seed=42)\n",
    "val, test = _temp.randomSplit([0.5, 0.5], seed=42)"
   ]
  },
  {
   "cell_type": "markdown",
   "metadata": {},
   "source": [
    "#### Logistic Regression"
   ]
  },
  {
   "cell_type": "code",
   "execution_count": 35,
   "metadata": {},
   "outputs": [],
   "source": [
    "# initialize LogisticRegression classifier\n",
    "lr = LogisticRegression(maxIter=10)\n",
    "\n",
    "# initialize F1 evaluator\n",
    "f1_evaluator = MulticlassClassificationEvaluator(metricName='f1')\n",
    "\n",
    "# create paramGrid\n",
    "paramGrid = ParamGridBuilder().build()\n",
    "\n",
    "# initialize cross validation pipeline\n",
    "crossval_lr = CrossValidator(estimator=lr, evaluator=f1_evaluator, estimatorParamMaps=paramGrid, numFolds=3)\n",
    "cvModel_lr = crossval_lr.fit(train)"
   ]
  },
  {
   "cell_type": "code",
   "execution_count": 36,
   "metadata": {},
   "outputs": [
    {
     "name": "stdout",
     "output_type": "stream",
     "text": [
      "Logistic Regression Metrics:\n",
      "Accuracy: 0.7666666666666667\n",
      "F-1 Score:0.7047619047619048\n"
     ]
    }
   ],
   "source": [
    "results_lr = cvModel_lr.transform(val)\n",
    "evaluator = MulticlassClassificationEvaluator(predictionCol=\"prediction\")\n",
    "print('Logistic Regression Metrics:')\n",
    "print('Accuracy: {}'.format(evaluator.evaluate(results_lr, {evaluator.metricName: \"accuracy\"})))\n",
    "print('F-1 Score:{}'.format(evaluator.evaluate(results_lr, {evaluator.metricName: \"f1\"})))"
   ]
  },
  {
   "cell_type": "markdown",
   "metadata": {},
   "source": [
    "#### Random Forest"
   ]
  },
  {
   "cell_type": "code",
   "execution_count": 37,
   "metadata": {},
   "outputs": [],
   "source": [
    "# initialize classifier\n",
    "rf = RandomForestClassifier()\n",
    "\n",
    "# build paramGrid\n",
    "paramGrid = ParamGridBuilder().build()\n",
    "\n",
    "crossval_rf = CrossValidator(estimator=rf, evaluator=f1_evaluator, estimatorParamMaps=paramGrid, numFolds=3)\n",
    "cvModel_rf = crossval_rf.fit(train)"
   ]
  },
  {
   "cell_type": "code",
   "execution_count": 38,
   "metadata": {},
   "outputs": [
    {
     "name": "stdout",
     "output_type": "stream",
     "text": [
      "Random Forest Metrics:\n",
      "Accuracy: 0.8666666666666667\n",
      "F-1 Score:0.8047619047619048\n"
     ]
    }
   ],
   "source": [
    "results_rf = cvModel_rf.transform(val)\n",
    "print('Random Forest Metrics:')\n",
    "print('Accuracy: {}'.format(evaluator.evaluate(results_rf, {evaluator.metricName: \"accuracy\"})))\n",
    "print('F-1 Score:{}'.format(evaluator.evaluate(results_rf, {evaluator.metricName: \"f1\"})))"
   ]
  },
  {
   "cell_type": "markdown",
   "metadata": {},
   "source": [
    "#### Gradient Boosted Trees"
   ]
  },
  {
   "cell_type": "code",
   "execution_count": 39,
   "metadata": {},
   "outputs": [],
   "source": [
    "# initialize classifier\n",
    "gbt = GBTClassifier(maxIter=10,seed=42)\n",
    "\n",
    "# build paramGrid\n",
    "paramGrid = ParamGridBuilder().build()\n",
    "\n",
    "crossval_gbt = CrossValidator(estimator=gbt, evaluator=f1_evaluator, estimatorParamMaps=paramGrid, numFolds=3)\n",
    "cvModel_gbt = crossval_gbt.fit(train)"
   ]
  },
  {
   "cell_type": "code",
   "execution_count": 40,
   "metadata": {
    "scrolled": true
   },
   "outputs": [
    {
     "name": "stdout",
     "output_type": "stream",
     "text": [
      "Gradient Boosted Trees Metrics:\n",
      "Accuracy: 0.8\n",
      "F-1 Score:0.7703703703703705\n"
     ]
    }
   ],
   "source": [
    "results_gbt = cvModel_gbt.transform(val)\n",
    "print('Gradient Boosted Trees Metrics:')\n",
    "print('Accuracy: {}'.format(evaluator.evaluate(results_gbt, {evaluator.metricName: \"accuracy\"})))\n",
    "print('F-1 Score:{}'.format(evaluator.evaluate(results_gbt, {evaluator.metricName: \"f1\"})))"
   ]
  },
  {
   "cell_type": "markdown",
   "metadata": {},
   "source": [
    "#### Best Model - Hyper Parameter Tuning"
   ]
  },
  {
   "cell_type": "code",
   "execution_count": 41,
   "metadata": {},
   "outputs": [],
   "source": [
    "# initialize classifier\n",
    "rf_tuned = RandomForestClassifier()\n",
    "\n",
    "# build paramGrid\n",
    "paramGrid = ParamGridBuilder()\\\n",
    "            .addGrid(rf.numTrees,[5, 10])\\\n",
    "            .addGrid(rf.maxDepth, [2, 4])\\\n",
    "            .build()\n",
    "\n",
    "crossval_rf_tuned = CrossValidator(estimator=rf_tuned, evaluator=f1_evaluator, estimatorParamMaps=paramGrid, numFolds=3)\n",
    "cvModel_rf_tuned = crossval_rf_tuned.fit(train)"
   ]
  },
  {
   "cell_type": "code",
   "execution_count": 42,
   "metadata": {},
   "outputs": [
    {
     "data": {
      "text/plain": [
       "[0.7132548750125465,\n",
       " 0.7132548750125465,\n",
       " 0.7150164413591523,\n",
       " 0.8047619047619048]"
      ]
     },
     "execution_count": 42,
     "metadata": {},
     "output_type": "execute_result"
    }
   ],
   "source": [
    "cvModel_rf_tuned.avgMetrics"
   ]
  },
  {
   "cell_type": "code",
   "execution_count": 43,
   "metadata": {},
   "outputs": [],
   "source": [
    "rf_best = RandomForestClassifier(numTrees=10, maxDepth=2)\n",
    "rf_best_model = rf_best.fit(train)"
   ]
  },
  {
   "cell_type": "code",
   "execution_count": 44,
   "metadata": {},
   "outputs": [
    {
     "name": "stdout",
     "output_type": "stream",
     "text": [
      "Random Forest Metrics:\n",
      "Accuracy: 0.896551724137931\n",
      "F-1 Score:0.8144578313253012\n"
     ]
    }
   ],
   "source": [
    "results_final = rf_best_model.transform(test)\n",
    "print('Random Forest Metrics:')\n",
    "print('Accuracy: {}'.format(evaluator.evaluate(results_final, {evaluator.metricName: \"accuracy\"})))\n",
    "print('F-1 Score:{}'.format(evaluator.evaluate(results_final, {evaluator.metricName: \"f1\"})))"
   ]
  },
  {
   "cell_type": "code",
   "execution_count": 53,
   "metadata": {
    "scrolled": true
   },
   "outputs": [
    {
     "data": {
      "text/plain": [
       "Text(0.5,1,'RF Feature Importances')"
      ]
     },
     "execution_count": 53,
     "metadata": {},
     "output_type": "execute_result"
    },
    {
     "data": {
      "image/png": "[encoded data removed]",
      "text/plain": [
       "<matplotlib.figure.Figure at 0x7faf682e67b8>"
      ]
     },
     "metadata": {
      "needs_background": "light"
     },
     "output_type": "display_data"
    }
   ],
   "source": [
    "feat_imp = rf_best_model.featureImportances.values\n",
    "y_pos = np.arange(len(feat_imp))\n",
    "\n",
    "plt.barh(y_pos, feat_imp, align='center')\n",
    "plt.yticks(y_pos, cols)\n",
    "plt.xlabel('Importance Score')\n",
    "plt.title('RF Feature Importances')"
   ]
  },
  {
   "cell_type": "markdown",
   "metadata": {},
   "source": [
    "# Conclusion"
   ]
  },
  {
   "cell_type": "markdown",
   "metadata": {},
   "source": [
    "In this notebook, we implemented a model trying to predict customer churn. We removed rows with no userId and converted gender to binary numeric column. We created 10 features to run our 3 models: Logistic Regression, Random Forest and Gradient Boosted Trees. We compared the performance of the 3 models, and selected Random Forest for our final implementation. We used cross validation and grid search to fine tune our model to achieve 89% accuracy, and 0.81 F1 score."
   ]
  },
  {
   "cell_type": "markdown",
   "metadata": {},
   "source": [
    "# Final Steps\n",
    "Clean up your code, adding comments and renaming variables to make the code easier to read and maintain. Refer to the Spark Project Overview page and Data Scientist Capstone Project Rubric to make sure you are including all components of the capstone project and meet all expectations. Remember, this includes thorough documentation in a README file in a Github repository, as well as a web app or blog post."
   ]
  },
  {
   "cell_type": "code",
   "execution_count": null,
   "metadata": {},
   "outputs": [],
   "source": []
  }
 ],
 "metadata": {
  "kernelspec": {
   "display_name": "Python 3 (ipykernel)",
   "language": "python",
   "name": "python3"
  },
  "language_info": {
   "codemirror_mode": {
    "name": "ipython",
    "version": 3
   },
   "file_extension": ".py",
   "mimetype": "text/x-python",
   "name": "python",
   "nbconvert_exporter": "python",
   "pygments_lexer": "ipython3",
   "version": "3.9.12"
  }
 },
 "nbformat": 4,
 "nbformat_minor": 2
}
